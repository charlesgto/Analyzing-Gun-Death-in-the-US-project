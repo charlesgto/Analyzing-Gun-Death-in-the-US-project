{
 "cells": [
  {
   "cell_type": "code",
   "execution_count": 4,
   "metadata": {
    "collapsed": false
   },
   "outputs": [
    {
     "name": "stdout",
     "output_type": "stream",
     "text": [
      "[['', 'year', 'month', 'intent', 'police', 'sex', 'age', 'race', 'hispanic', 'place', 'education'], ['1', '2012', '01', 'Suicide', '0', 'M', '34', 'Asian/Pacific Islander', '100', 'Home', '4'], ['2', '2012', '01', 'Suicide', '0', 'F', '21', 'White', '100', 'Street', '3'], ['3', '2012', '01', 'Suicide', '0', 'M', '60', 'White', '100', 'Other specified', '4'], ['4', '2012', '02', 'Suicide', '0', 'M', '64', 'White', '100', 'Home', '4']]\n"
     ]
    }
   ],
   "source": [
    "import csv\n",
    "f = open('guns.csv')\n",
    "csvf = csv.reader(f)\n",
    "data = list(csvf)\n",
    "print(data[:5])"
   ]
  },
  {
   "cell_type": "code",
   "execution_count": 5,
   "metadata": {
    "collapsed": true
   },
   "outputs": [],
   "source": [
    "headers = slice(data[0])"
   ]
  },
  {
   "cell_type": "code",
   "execution_count": 6,
   "metadata": {
    "collapsed": false
   },
   "outputs": [
    {
     "name": "stdout",
     "output_type": "stream",
     "text": [
      "slice(None, ['', 'year', 'month', 'intent', 'police', 'sex', 'age', 'race', 'hispanic', 'place', 'education'], None)\n"
     ]
    }
   ],
   "source": [
    "print(headers)"
   ]
  },
  {
   "cell_type": "code",
   "execution_count": 7,
   "metadata": {
    "collapsed": false
   },
   "outputs": [],
   "source": [
    "data = data[slice(1,len(data))]"
   ]
  },
  {
   "cell_type": "code",
   "execution_count": 8,
   "metadata": {
    "collapsed": false
   },
   "outputs": [
    {
     "name": "stdout",
     "output_type": "stream",
     "text": [
      "[['1', '2012', '01', 'Suicide', '0', 'M', '34', 'Asian/Pacific Islander', '100', 'Home', '4'], ['2', '2012', '01', 'Suicide', '0', 'F', '21', 'White', '100', 'Street', '3'], ['3', '2012', '01', 'Suicide', '0', 'M', '60', 'White', '100', 'Other specified', '4'], ['4', '2012', '02', 'Suicide', '0', 'M', '64', 'White', '100', 'Home', '4'], ['5', '2012', '02', 'Suicide', '0', 'M', '31', 'White', '100', 'Other specified', '2']]\n"
     ]
    }
   ],
   "source": [
    "print(data[:5])"
   ]
  },
  {
   "cell_type": "code",
   "execution_count": 17,
   "metadata": {
    "collapsed": false
   },
   "outputs": [
    {
     "name": "stdout",
     "output_type": "stream",
     "text": [
      "{'2014': 33599, '2012': 33563, '2013': 33636}\n"
     ]
    }
   ],
   "source": [
    "years = []\n",
    "years_counts = {}\n",
    "for row in data:\n",
    "    year = row[1]\n",
    "    years.append(year)\n",
    "    \n",
    "for year in years:\n",
    "    if year in years_counts:\n",
    "        years_counts[year] += 1\n",
    "        \n",
    "    else:\n",
    "        years_counts[year] = 1\n",
    "    \n",
    "print(years_counts)\n",
    "\n",
    "\n",
    "    \n",
    "    "
   ]
  },
  {
   "cell_type": "code",
   "execution_count": 18,
   "metadata": {
    "collapsed": false
   },
   "outputs": [
    {
     "name": "stdout",
     "output_type": "stream",
     "text": [
      "[datetime.datetime(2012, 1, 1, 0, 0), datetime.datetime(2012, 1, 1, 0, 0), datetime.datetime(2012, 1, 1, 0, 0), datetime.datetime(2012, 2, 1, 0, 0), datetime.datetime(2012, 2, 1, 0, 0)]\n",
      "{datetime.datetime(2012, 8, 1, 0, 0): 2954, datetime.datetime(2014, 9, 1, 0, 0): 2914, datetime.datetime(2012, 9, 1, 0, 0): 2852, datetime.datetime(2014, 12, 1, 0, 0): 2857, datetime.datetime(2013, 10, 1, 0, 0): 2808, datetime.datetime(2014, 2, 1, 0, 0): 2361, datetime.datetime(2014, 5, 1, 0, 0): 2864, datetime.datetime(2014, 4, 1, 0, 0): 2862, datetime.datetime(2013, 6, 1, 0, 0): 2920, datetime.datetime(2013, 3, 1, 0, 0): 2862, datetime.datetime(2012, 4, 1, 0, 0): 2795, datetime.datetime(2013, 12, 1, 0, 0): 2765, datetime.datetime(2012, 1, 1, 0, 0): 2758, datetime.datetime(2012, 6, 1, 0, 0): 2826, datetime.datetime(2012, 3, 1, 0, 0): 2743, datetime.datetime(2012, 7, 1, 0, 0): 3026, datetime.datetime(2012, 2, 1, 0, 0): 2357, datetime.datetime(2012, 10, 1, 0, 0): 2733, datetime.datetime(2013, 11, 1, 0, 0): 2758, datetime.datetime(2014, 11, 1, 0, 0): 2756, datetime.datetime(2014, 8, 1, 0, 0): 2970, datetime.datetime(2012, 12, 1, 0, 0): 2791, datetime.datetime(2012, 11, 1, 0, 0): 2729, datetime.datetime(2014, 3, 1, 0, 0): 2684, datetime.datetime(2013, 8, 1, 0, 0): 2859, datetime.datetime(2014, 10, 1, 0, 0): 2865, datetime.datetime(2013, 4, 1, 0, 0): 2798, datetime.datetime(2014, 1, 1, 0, 0): 2651, datetime.datetime(2013, 2, 1, 0, 0): 2375, datetime.datetime(2014, 7, 1, 0, 0): 2884, datetime.datetime(2013, 1, 1, 0, 0): 2864, datetime.datetime(2014, 6, 1, 0, 0): 2931, datetime.datetime(2013, 7, 1, 0, 0): 3079, datetime.datetime(2012, 5, 1, 0, 0): 2999, datetime.datetime(2013, 5, 1, 0, 0): 2806, datetime.datetime(2013, 9, 1, 0, 0): 2742}\n"
     ]
    }
   ],
   "source": [
    "import datetime\n",
    "dates = [datetime.datetime(year = int(row[1]), month = int(row[2]), day = 1) for row in data]\n",
    "print(dates[:5])\n",
    "\n",
    "date_counts = {}\n",
    "for d in dates:\n",
    "    if d in date_counts.keys():\n",
    "        date_counts[d] += 1\n",
    "        \n",
    "    else:\n",
    "         date_counts[d] = 1\n",
    "\n",
    "print(date_counts)"
   ]
  },
  {
   "cell_type": "code",
   "execution_count": 19,
   "metadata": {
    "collapsed": false
   },
   "outputs": [
    {
     "name": "stdout",
     "output_type": "stream",
     "text": [
      "{'F': 14449, 'M': 86349}\n",
      "{'White': 66237, 'Black': 23296, 'Native American/Native Alaskan': 917, 'Asian/Pacific Islander': 1326, 'Hispanic': 9022}\n"
     ]
    }
   ],
   "source": [
    "sex_counts = {}\n",
    "race_counts = {}\n",
    "for row in data:\n",
    "    count_s = row[5]\n",
    "    if count_s in sex_counts:\n",
    "        sex_counts[count_s] += 1\n",
    "    else:\n",
    "        sex_counts[count_s] = 1\n",
    "        \n",
    "        \n",
    "for row in data:\n",
    "    count_r = row[7]\n",
    "    if count_r in race_counts:\n",
    "        race_counts[count_r] += 1\n",
    "    else:\n",
    "        race_counts[count_r] = 1\n",
    "        \n",
    "print(sex_counts)\n",
    "print(race_counts)"
   ]
  },
  {
   "cell_type": "markdown",
   "metadata": {},
   "source": [
    "This lesson has help do some arithemetic operation on large dataset. However i need more clarification on incremental count in terms of the use of 1's and 0's. Thank you."
   ]
  },
  {
   "cell_type": "code",
   "execution_count": 21,
   "metadata": {
    "collapsed": false
   },
   "outputs": [
    {
     "name": "stdout",
     "output_type": "stream",
     "text": [
      "[['Id', 'Year', 'Id', 'Sex', 'Id', 'Hispanic Origin', 'Id', 'Id2', 'Geography', 'Total', 'Race Alone - White', 'Race Alone - Hispanic', 'Race Alone - Black or African American', 'Race Alone - American Indian and Alaska Native', 'Race Alone - Asian', 'Race Alone - Native Hawaiian and Other Pacific Islander', 'Two or More Races'], ['cen42010', 'April 1, 2010 Census', 'totsex', 'Both Sexes', 'tothisp', 'Total', '0100000US', '', 'United States', '308745538', '197318956', '44618105', '40250635', '3739506', '15159516', '674625', '6984195']]\n"
     ]
    }
   ],
   "source": [
    "f = open('census.csv')\n",
    "csvf = csv.reader(f)\n",
    "census = list(csvf)\n",
    "print(census)"
   ]
  },
  {
   "cell_type": "code",
   "execution_count": 24,
   "metadata": {
    "collapsed": false
   },
   "outputs": [
    {
     "name": "stdout",
     "output_type": "stream",
     "text": [
      "{'Id2': '', 'Race Alone - Black or African American': '40250635', 'Race Alone - American Indian and Alaska Native': '3739506', 'Race Alone - Asian': '15159516', 'Race Alone - White': '197318956', 'Race Alone - Native Hawaiian and Other Pacific Islander': '674625', 'Geography': 'United States', 'Two or More Races': '6984195', 'Id': '0100000US', 'Hispanic Origin': 'Total', 'Total': '308745538', 'Year': 'April 1, 2010 Census', 'Sex': 'Both Sexes', 'Race Alone - Hispanic': '44618105'}\n"
     ]
    }
   ],
   "source": [
    "mapping = {'Asian/Pacific Islander': '15159516674625', 'Native American/Native Alaskan': '3739506', 'White': '197318956', 'Hispanic': '44618105', 'Black': '40250635'}\n",
    "Census = {}\n",
    "for i,b in enumerate(census[0]):\n",
    "    Census[b] = census[1][i]\n",
    "print(Census)"
   ]
  },
  {
   "cell_type": "code",
   "execution_count": 27,
   "metadata": {
    "collapsed": false
   },
   "outputs": [
    {
     "name": "stdout",
     "output_type": "stream",
     "text": [
      "{'White': 33.56849303419181, 'Black': 57.8773477735196, 'Asian/Pacific Islander': 8.746980714890115e-06, 'Native American/Native Alaskan': 24.521955573811088, 'Hispanic': 20.220491210910907}\n"
     ]
    }
   ],
   "source": [
    "mapping = {}\n",
    "mapping['Asian/Pacific Islander'] = Census['Race Alone - Asian']+Census['Race Alone - Native Hawaiian and Other Pacific Islander']\n",
    "mapping['Black'] = Census['Race Alone - Black or African American'] \n",
    "mapping['Hispanic'] = Census['Race Alone - Hispanic']\n",
    "mapping['Native American/Native Alaskan'] = Census['Race Alone - American Indian and Alaska Native']\n",
    "mapping['White'] = Census['Race Alone - White']\n",
    "\n",
    "race_per_hundredk={}\n",
    "for key,value in race_counts.items():\n",
    "    race_per_hundredk[key] = 100000*(value/int(mapping[key]))\n",
    "    \n",
    "print (race_per_hundredk)"
   ]
  },
  {
   "cell_type": "code",
   "execution_count": 31,
   "metadata": {
    "collapsed": false
   },
   "outputs": [
    {
     "name": "stdout",
     "output_type": "stream",
     "text": [
      "{'White': 9147, 'Black': 19510, 'Native American/Native Alaskan': 326, 'Asian/Pacific Islander': 559, 'Hispanic': 5634}\n"
     ]
    }
   ],
   "source": [
    "intents = []\n",
    "races = []\n",
    "homicide_race_counts = {}\n",
    "for row in data:\n",
    "    inte = row[3]\n",
    "    rac = row[7]\n",
    "    intents.append(inte)\n",
    "    races.append(rac)\n",
    "    \n",
    "for i,race in enumerate(races):\n",
    "    if intents[i] == \"Homicide\":\n",
    "        if race in homicide_race_counts:\n",
    "            homicide_race_counts[race] += 1\n",
    "        else:\n",
    "            homicide_race_counts[race] = 1\n",
    "            \n",
    "print(homicide_race_counts)"
   ]
  },
  {
   "cell_type": "code",
   "execution_count": 34,
   "metadata": {
    "collapsed": false
   },
   "outputs": [
    {
     "name": "stdout",
     "output_type": "stream",
     "text": [
      "{'White': 4.6356417981453335, 'Black': 48.471284987180944, 'Asian/Pacific Islander': 3.687452654316421e-06, 'Native American/Native Alaskan': 8.717729026240365, 'Hispanic': 12.627161104219914}\n"
     ]
    }
   ],
   "source": [
    "homicide_race_per_hundredk={}\n",
    "for key,value in homicide_race_counts.items():\n",
    "    homicide_race_per_hundredk[key] = 100000*(value/int(mapping[key]))\n",
    "    \n",
    "print(homicide_race_per_hundredk)"
   ]
  },
  {
   "cell_type": "markdown",
   "metadata": {},
   "source": [
    "There is the need for me to do further study on enumerat() as it relates to distionary\n",
    "I would like to run prediction on the data for the next year 2015, and also gather more data to know why the Black have a higher rate of gun death."
   ]
  }
 ],
 "metadata": {
  "kernelspec": {
   "display_name": "Python 3",
   "language": "python",
   "name": "python3"
  },
  "language_info": {
   "codemirror_mode": {
    "name": "ipython",
    "version": 3
   },
   "file_extension": ".py",
   "mimetype": "text/x-python",
   "name": "python",
   "nbconvert_exporter": "python",
   "pygments_lexer": "ipython3",
   "version": "3.4.3"
  }
 },
 "nbformat": 4,
 "nbformat_minor": 0
}
